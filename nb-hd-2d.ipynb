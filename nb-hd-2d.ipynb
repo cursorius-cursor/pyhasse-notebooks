{
 "cells": [
  {
   "cell_type": "markdown",
   "metadata": {},
   "source": [
    "# Hassediagram-Editor"
   ]
  },
  {
   "cell_type": "markdown",
   "metadata": {},
   "source": [
    "- You will find some example data files and generate Hassediagrams.\n",
    "- Parameters like colors and selected nodes can be set as you like."
   ]
  },
  {
   "cell_type": "markdown",
   "metadata": {},
   "source": [
    "### Configuration for D3"
   ]
  },
  {
   "cell_type": "code",
   "execution_count": 2,
   "metadata": {},
   "outputs": [
    {
     "data": {
      "text/html": [
       "<script src=\"https://cdnjs.cloudflare.com/ajax/libs/d3/3.5.6/d3.min.js\"></script>"
      ],
      "text/plain": [
       "<IPython.core.display.HTML object>"
      ]
     },
     "execution_count": 2,
     "metadata": {},
     "output_type": "execute_result"
    }
   ],
   "source": [
    "from IPython.display import HTML, Javascript\n",
    "import hd3d_lib\n",
    "HTML('<script src=\"https://cdnjs.cloudflare.com/ajax/libs/d3/3.5.6/d3.min.js\"></script>')"
   ]
  },
  {
   "cell_type": "markdown",
   "metadata": {},
   "source": [
    "### Import modules"
   ]
  },
  {
   "cell_type": "code",
   "execution_count": 3,
   "metadata": {},
   "outputs": [],
   "source": [
    "import pathlib\n",
    "from pyhasse.core.csv_io import CSVReader\n",
    "from pyhasse.core.matrix import Matrix\n",
    "from pyhasse.core.order import Order\n",
    "from pyhasse.core.hddata import HDData\n",
    "import json\n",
    "import random\n",
    "from IPython.display import display, HTML\n",
    "import random\n",
    "#random.seed(42)\n",
    "from string import Template\n"
   ]
  },
  {
   "cell_type": "markdown",
   "metadata": {},
   "source": [
    "### Import data and preparatory work\n",
    "\n",
    "Put your own data sets into the folder csvdata."
   ]
  },
  {
   "cell_type": "code",
   "execution_count": 4,
   "metadata": {},
   "outputs": [],
   "source": [
    "#TESTFILENAME = '/csvdata/zeta-test.csv'\n",
    "#TESTFILENAME = '/csvdata/acm-houses.csv'\n",
    "#TESTFILENAME = '/csvdata/chain-demo.csv'\n",
    "#TESTFILENAME = '/csvdata/chain-pollution.csv'\n",
    "#TESTFILENAME = '/csvdata/copeland_demo.csv'\n",
    "#TESTFILENAME = '/csvdata/fuzzy-demo.csv'\n",
    "#TESTFILENAME = '/csvdata/main19chemicals.csv'\n",
    "#TESTFILENAME = '/csvdata/pesticides-demo.txt'\n",
    "#TESTFILENAME = '/csvdata/spyout-demo.csv'\n",
    "#TESTFILENAME = '/csvdata/zeta-test.csv'\n",
    "TESTFILENAME = '/csvdata/check-K.csv'\n",
    "#TESTFILENAME = '/csvdata/kassel2.txt'\n",
    "\n",
    "HERE = pathlib.Path('__file__').parent\n",
    "csv = CSVReader(fn=str(HERE) + TESTFILENAME, ndec=3)\n",
    "# prepare dataset (reduced system)\n",
    "matrix = Matrix(csv.data, csv.obj, csv.prop, reduced=True)"
   ]
  },
  {
   "cell_type": "markdown",
   "metadata": {},
   "source": [
    "### Calculate data and configure the Hassediagram"
   ]
  },
  {
   "cell_type": "code",
   "execution_count": 5,
   "metadata": {},
   "outputs": [],
   "source": [
    "hd = HDData(matrix, csv)\n",
    "data_dict = hd.jsondata()\n",
    "data_dict['dmred'] = matrix.data\n",
    "selected_obj = ''\n",
    "data_dict['lst_downsets'] = []\n",
    "data_dict['lst_upsets'] = []\n",
    "data_dict['lst_incomparables'] = []\n",
    "    \n",
    "settings = {\n",
    "    \"preselected\": [],\n",
    "    \"arrowShow\": 1,\n",
    "    \"unselectedHide\": 0,\n",
    "    \"edgeHighlight\": 1,\n",
    "    \"arrowWidth\": 20,\n",
    "    \"arrowSideRight\": 1,\n",
    "    \"unselectedNodeColor\": \"#00ff00\",\n",
    "    \"selectedNodeColor\": \"#ffbfff\",\n",
    "    \"arrowColor\": \"#ff0000\",\n",
    "    \"textColor\": \"#000000\",\n",
    "    \"lineColor\": \"#FFF\",\n",
    "    \"selectedBkgColor\": \"#008\",\n",
    "    \"bkgGradient1\": \"#2db4ff\",\n",
    "    \"bkgGradient2\": \"#2db4ff\",\n",
    "    \"shortLength\": 4,\n",
    "    \"hNodeDist\": 2,\n",
    "    \"vNodeDist\": 2,\n",
    "    \"r\": 20,         # node size\n",
    "    \"bkgR\": 20 + 5,  # background upset/downset\n",
    "    \"frameHeight\": 600\n",
    "}\n",
    "\n",
    "data_dict.update(settings)"
   ]
  },
  {
   "cell_type": "code",
   "execution_count": 6,
   "metadata": {},
   "outputs": [],
   "source": [
    "precision = 4\n",
    "order = Order(csv.data,\n",
    "              csv.rows,\n",
    "              csv.cols)\n",
    "zeta =order.calc_relatmatrix(csv.data, csv.rows, csv.cols)\n",
    "zeta = order.calc_relatmatrix(\n",
    "    datamatrix=matrix.data,\n",
    "    rows=matrix.rows,\n",
    "    cols=matrix.cols,\n",
    "    prec=precision)\n",
    "\n",
    "data_dict['lst_downsets'] = order.calc_downset(zeta, matrix.rows)\n",
    "data_dict['lst_upsets'] = order.calc_upset(zeta, matrix.rows)\n"
   ]
  },
  {
   "cell_type": "markdown",
   "metadata": {},
   "source": [
    "### For navigation by upset, downset or both, select the generating node"
   ]
  },
  {
   "cell_type": "code",
   "execution_count": 7,
   "metadata": {},
   "outputs": [],
   "source": [
    "#node = 'c'\n",
    "node = ''\n",
    "data_dict['preselected'] = []\n",
    "\n",
    "if node != '':\n",
    "    node_index = data_dict['lst_obj_red'].index(node)\n",
    "    # Upsets\n",
    "    upsets = [data_dict['lst_obj_red'][i] for i in data_dict['lst_upsets'][node_index]]\n",
    "    # Downset\n",
    "    downsets = [data_dict['lst_obj_red'][i] for i in data_dict['lst_downsets'][node_index]]"
   ]
  },
  {
   "cell_type": "markdown",
   "metadata": {},
   "source": [
    "### select by commenting or commenting out whether or not  a downset, an upset or both is wanted."
   ]
  },
  {
   "cell_type": "code",
   "execution_count": 8,
   "metadata": {},
   "outputs": [],
   "source": [
    "if node != '':\n",
    "    data_dict['preselected'] = upsets + downsets\n",
    "    #data_dict['preselected'] = upsets\n",
    "    #data_dict['preselected'] = downsets"
   ]
  },
  {
   "cell_type": "code",
   "execution_count": 9,
   "metadata": {
    "scrolled": true
   },
   "outputs": [
    {
     "name": "stdout",
     "output_type": "stream",
     "text": [
      " Pointer    object label represents      equivalence class  \n",
      "-----------------------------------------------------------\n",
      "       0               a                     [0, 4, 7]      \n",
      "       1               b                       [1, 3]       \n",
      "       2               c                        [2]         \n",
      "       5               f                        [5]         \n",
      "       6               g                       [6, 8]       \n"
     ]
    }
   ],
   "source": [
    "#eqm = csv.generate_eqcl(csv.obj,csv.eqm)\n",
    "\n",
    "eqm, rred =  matrix.generate_equivalenceclasses(csv.data, csv.rows, csv.cols, prec=None)\n",
    "print(f'{\"Pointer\":>8} {\"object label represents\":^30} {\"equivalence class\":^20}')\n",
    "print(f'{59 * \"-\"}')\n",
    "for idx, value in enumerate(matrix.obj):\n",
    "      print(f'{csv.obj.index(value):>8} {value:^30} {str(eqm[idx]):^20}')     "
   ]
  },
  {
   "cell_type": "markdown",
   "metadata": {},
   "source": [
    "# Draw Hassediagram\n",
    "### Navigation\n",
    "- zoom (smooth) -- *Mouse-Wheel*\n",
    "- zoom to node -- *Right-Click* on node\n",
    "- move the diagram -- *Click+Drag*\n",
    "- move a node -- *Click on node+Drag*\n",
    "- select one node -- *Click*\n",
    "- toggle a node's selection or select multiple nodes -- *Shift+Click*\n"
   ]
  },
  {
   "cell_type": "markdown",
   "metadata": {},
   "source": [
    "## Hint\n",
    "\n",
    "This is not a bug, but the development of notebooks and JavaScript libraries is progressing rapidly! \n",
    "Therefore, the code for drawing a Hasse diagram must be rewritten.\n",
    "\n",
    "Until the update is completed, a zip file (pyhasse--diagram__simple.zip) can be used to create a Hasse diagram locally without a notebook."
   ]
  },
  {
   "cell_type": "code",
   "execution_count": 10,
   "metadata": {
    "scrolled": true
   },
   "outputs": [
    {
     "name": "stdout",
     "output_type": "stream",
     "text": [
      "{'mx_cover': [[0, 0, 0, 0, 0], [1, 0, 0, 0, 0], [1, 0, 0, 0, 0], [0, 1, 1, 0, 0], [0, 1, 1, 0, 0]], 'mx_zeta': [[1, 0, 0, 0, 0], [1, 1, 0, 0, 0], [1, 0, 1, 0, 0], [1, 1, 1, 1, 0], [1, 1, 1, 0, 1]], 'mx_obj_red': [[1.0, 2.0], [3.0, 4.0], [4.0, 3.0], [5.0, 6.0], [6.0, 5.0]], 'lst_obj_red': ['a', 'b', 'c', 'f', 'g'], 'int_levels': 3, 'fd_levels': [[3, 4], [1, 2], [0]], 'int_max_objs': 2, 'mx_eq_classses': {'a': ['e', 'h'], 'b': ['d'], 'c': [], 'f': [], 'g': ['i']}, 'lst_connections': [('b', 'a'), ('c', 'a'), ('f', 'b'), ('f', 'c'), ('g', 'b'), ('g', 'c')], 'dmred': [[1.0, 2.0], [3.0, 4.0], [4.0, 3.0], [5.0, 6.0], [6.0, 5.0]], 'lst_downsets': [[0], [0, 1], [0, 2], [0, 1, 2, 3], [0, 1, 2, 4]], 'lst_upsets': [[0, 1, 2, 3, 4], [1, 3, 4], [2, 3, 4], [3], [4]], 'lst_incomparables': [], 'preselected': [], 'arrowShow': 1, 'unselectedHide': 0, 'edgeHighlight': 1, 'arrowWidth': 20, 'arrowSideRight': 1, 'unselectedNodeColor': '#00ff00', 'selectedNodeColor': '#ffbfff', 'arrowColor': '#ff0000', 'textColor': '#000000', 'lineColor': '#FFF', 'selectedBkgColor': '#008', 'bkgGradient1': '#2db4ff', 'bkgGradient2': '#2db4ff', 'shortLength': 4, 'hNodeDist': 2, 'vNodeDist': 2, 'r': 20, 'bkgR': 25, 'frameHeight': 600}\n"
     ]
    }
   ],
   "source": [
    "import hd3d_lib\n",
    "print(data_dict)\n",
    "#HTML(hd3d_lib.draw_hasse('diagramd3_editor', data_dict))"
   ]
  }
 ],
 "metadata": {
  "kernelspec": {
   "display_name": "Python 3 (ipykernel)",
   "language": "python",
   "name": "python3"
  },
  "language_info": {
   "codemirror_mode": {
    "name": "ipython",
    "version": 3
   },
   "file_extension": ".py",
   "mimetype": "text/x-python",
   "name": "python",
   "nbconvert_exporter": "python",
   "pygments_lexer": "ipython3",
   "version": "3.13.0"
  }
 },
 "nbformat": 4,
 "nbformat_minor": 4
}
