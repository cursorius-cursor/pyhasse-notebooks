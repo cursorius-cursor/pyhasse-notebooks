{
 "cells": [
  {
   "cell_type": "markdown",
   "metadata": {},
   "source": [
    "# What can pyhasse.acm be used for?"
   ]
  },
  {
   "cell_type": "markdown",
   "metadata": {},
   "source": [
    "### Objectives\n",
    "\n",
    "Analysis of conflicts (Antichain: a subset of the set of objects, mutually incomparable)\n",
    "\n",
    "Note: only the representative elements are considered. \n",
    "\n",
    "For example: In the data file csvdata/a-equiv.txt are 8 objects but only 5 representative elements\n",
    "\n",
    "### Let's calculate the colsum\n",
    "\n",
    "Number of incomparable object pairs, concerning a given indicator pair (col sum).\n"
   ]
  },
  {
   "cell_type": "markdown",
   "metadata": {},
   "source": [
    "### Import all necessary libraries"
   ]
  },
  {
   "cell_type": "code",
   "execution_count": 1,
   "metadata": {},
   "outputs": [],
   "source": [
    "import pathlib\n",
    "from pyhasse.core.csv_io import CSVReader\n",
    "from pyhasse.core.matrix import Matrix\n",
    "import json\n",
    "import random\n",
    "from IPython.core.display import display, HTML\n",
    "from string import Template\n",
    "import hd3d_lib\n",
    "from pyhasse.acm.calc import ACM"
   ]
  },
  {
   "cell_type": "markdown",
   "metadata": {},
   "source": [
    "### load library for visualisation"
   ]
  },
  {
   "cell_type": "code",
   "execution_count": 2,
   "metadata": {},
   "outputs": [
    {
     "data": {
      "text/html": [
       "<script src=\"lib/d3/d3.min.js\"></script>"
      ],
      "text/plain": [
       "<IPython.core.display.HTML object>"
      ]
     },
     "execution_count": 2,
     "metadata": {},
     "output_type": "execute_result"
    }
   ],
   "source": [
    "HTML('<script src=\"lib/d3/d3.min.js\"></script>')"
   ]
  },
  {
   "cell_type": "markdown",
   "metadata": {},
   "source": [
    "### Note:\n",
    "\n",
    "start: all bars whose length >= 'start' will be visible\n",
    "\n",
    "stop:  all bars whose length <= 'stop' will be shown"
   ]
  },
  {
   "cell_type": "code",
   "execution_count": 3,
   "metadata": {},
   "outputs": [
    {
     "name": "stdout",
     "output_type": "stream",
     "text": [
      "8\n",
      "3\n",
      "['a', 'b', 'c', 'd', 'e', 'f', 'g', 'h']\n"
     ]
    }
   ],
   "source": [
    "TESTFILENAME = '/csvdata/a-equiv.txt'\n",
    "#TESTFILENAME = '/csvdata/check-K.csv'\n",
    "prefs={\n",
    "    'start': 0,\n",
    "    'stop': 20,\n",
    "    'user_list' : [],\n",
    "    #'user_list' : ['a', 'b', 'g'],\n",
    "    'labelLen': 3,\n",
    "    'actwidth': 550,\n",
    "    'actheight': 200\n",
    "}\n",
    "\n",
    "HERE = pathlib.Path('__file__').parent\n",
    "csv = CSVReader(fn=str(HERE) + TESTFILENAME, ndec=3)\n",
    "# prepare dataset (reduced system)\n",
    "matrix = Matrix(csv.data, csv.obj, csv.prop, reduced=True)\n",
    "acm = ACM(matrix, csv)\n",
    "\n",
    "#acm = ACM(csv.data, csv.rows, csv.cols, reduced=True)\n",
    "print(csv.rows)\n",
    "print(csv.cols)\n",
    "print(csv.obj)\n",
    "prefs['user_list'] = csv.obj"
   ]
  },
  {
   "cell_type": "markdown",
   "metadata": {},
   "source": [
    "#### Equivalenceclasses"
   ]
  },
  {
   "cell_type": "code",
   "execution_count": 4,
   "metadata": {},
   "outputs": [
    {
     "name": "stdout",
     "output_type": "stream",
     "text": [
      " Pointer    object label represents      equivalence class  \n",
      "-----------------------------------------------------------\n",
      "       0               a                     [0, 1, 5]      \n",
      "       2               c                        [2]         \n",
      "       3               d                        [3]         \n",
      "       4               e                       [4, 6]       \n",
      "       7               h                        [7]         \n"
     ]
    }
   ],
   "source": [
    "eqm, rred =  matrix.generate_equivalenceclasses(csv.data, csv.rows, csv.cols, prec=None)\n",
    "print(f'{\"Pointer\":>8} {\"object label represents\":^30} {\"equivalence class\":^20}')\n",
    "print(f'{59 * \"-\"}')\n",
    "for idx, value in enumerate(matrix.obj): \n",
    "      print(f'{csv.obj.index(value):>8} {value:^30} {str(eqm[idx]):^20}')   "
   ]
  },
  {
   "cell_type": "markdown",
   "metadata": {},
   "source": [
    " ### Basic calculations\n"
   ]
  },
  {
   "cell_type": "code",
   "execution_count": 5,
   "metadata": {
    "scrolled": true
   },
   "outputs": [
    {
     "name": "stdout",
     "output_type": "stream",
     "text": [
      "[[1.0, 1.0, 2.0], [1.0, 1.0, 2.0], [3.0, 2.0, 1.0], [1.0, 2.0, 3.0], [4.0, 4.0, 4.0], [1.0, 1.0, 2.0], [4.0, 4.0, 4.0], [9.0, 9.0, 9.0]]\n",
      "px  [(0, 1), (0, 2), (0, 3), (0, 4), (0, 5), (0, 6), (0, 7), (1, 2), (1, 3), (1, 4), (1, 5), (1, 6), (1, 7), (2, 3), (2, 4), (2, 5), (2, 6), (2, 7), (3, 4), (3, 5), (3, 6), (3, 7), (4, 5), (4, 6), (4, 7), (5, 6), (5, 7), (6, 7)]\n",
      "pq  [(0, 1), (0, 2), (1, 2)]\n",
      "ac  [[0, 0, 0], [0, 1, 1], [0, 0, 0], [0, 0, 0], [0, 0, 0], [0, 0, 0], [0, 0, 0], [0, 1, 1], [0, 0, 0], [0, 0, 0], [0, 0, 0], [0, 0, 0], [0, 0, 0], [0, 1, 0], [0, 0, 0], [0, 1, 1], [0, 0, 0], [0, 0, 0], [0, 0, 0], [0, 0, 0], [0, 0, 0], [0, 0, 0], [0, 0, 0], [0, 0, 0], [0, 0, 0], [0, 0, 0], [0, 0, 0], [0, 0, 0]]\n",
      "['a', 'b', 'c', 'd', 'e', 'f', 'g', 'h']\n",
      "(0, 1)\n",
      "(0, 2)\n",
      "(0, 3)\n",
      "(0, 4)\n",
      "(0, 5)\n",
      "(0, 6)\n",
      "(0, 7)\n",
      "(1, 2)\n",
      "(1, 3)\n",
      "(1, 4)\n",
      "(1, 5)\n",
      "(1, 6)\n",
      "(1, 7)\n",
      "(2, 3)\n",
      "(2, 4)\n",
      "(2, 5)\n",
      "(2, 6)\n",
      "(2, 7)\n",
      "(3, 4)\n",
      "(3, 5)\n",
      "(3, 6)\n",
      "(3, 7)\n",
      "(4, 5)\n",
      "(4, 6)\n",
      "(4, 7)\n",
      "(5, 6)\n",
      "(5, 7)\n",
      "(6, 7)\n"
     ]
    }
   ],
   "source": [
    "px, pq = acm.generate_setofpairs(prefs['user_list'])\n",
    "ac = acm.calc_acm(px, pq)\n",
    "print (csv.data)\n",
    "print (\"px \",px)\n",
    "print (\"pq \",pq)\n",
    "#print (\"qp \",qp)\n",
    "print (\"ac \",ac)\n",
    "rowsumacm, colsumacm = acm.calc_obj_attprofile()\n",
    "maxrowsum, maxcolsum = acm.calc_optimum()\n",
    "mobjobj, mattatt = acm.find_optimalpairs(px, pq)\n",
    "\n",
    "print (csv.obj)\n",
    "\n",
    "for el in px:\n",
    "    print (el)"
   ]
  },
  {
   "cell_type": "code",
   "execution_count": 6,
   "metadata": {},
   "outputs": [],
   "source": [
    "name_ordinate1, \\\n",
    "name_ordinate2, \\\n",
    "labels_obj, \\\n",
    "labels_att, \\\n",
    "labelmaxobj, \\\n",
    "labelmaxatt = acm.acm_graphics(prefs['user_list'])\n",
    "\n",
    "#labels_obj\n",
    "#labels_att"
   ]
  },
  {
   "cell_type": "markdown",
   "metadata": {},
   "source": [
    "### Prepare the data for visualisation"
   ]
  },
  {
   "cell_type": "code",
   "execution_count": 7,
   "metadata": {},
   "outputs": [
    {
     "name": "stdout",
     "output_type": "stream",
     "text": [
      "[0, 4, 3]\n",
      "[0, 2, 0, 0, 0, 0, 0, 2, 0, 0, 0, 0, 0, 1, 0, 2, 0, 0, 0, 0, 0, 0, 0, 0, 0, 0, 0, 0]\n"
     ]
    }
   ],
   "source": [
    "rowsum, colsum = acm.calc_obj_attprofile()\n",
    "print(colsum)\n",
    "print(rowsum)"
   ]
  },
  {
   "cell_type": "markdown",
   "metadata": {},
   "source": [
    "### Convert data into javscript syntax for D3"
   ]
  },
  {
   "cell_type": "code",
   "execution_count": 8,
   "metadata": {},
   "outputs": [
    {
     "name": "stdout",
     "output_type": "stream",
     "text": [
      "[0, 3, 4]\n",
      "var start = 0;\n",
      "var stop = 20;\n",
      "var user_list = ['a', 'b', 'c', 'd', 'e', 'f', 'g', 'h'];\n",
      "var labelLen = 3;\n",
      "var actwidth = 550;\n",
      "var actheight = 200;\n",
      "var dataSet1  = [{\"legendLabel\": \"q1 - q2\", \"magnitude\": 0},{\"legendLabel\": \"q1 - q3\", \"magnitude\": 4},{\"legendLabel\": \"q2 - q3\", \"magnitude\": 3},];\n"
     ]
    }
   ],
   "source": [
    "# min and max from colsum\n",
    "#print(csv.obj)\n",
    "results_list = sorted(colsum)\n",
    "print(results_list)\n",
    "# prepare javascript variables\n",
    "data = ''\n",
    "for k,v in prefs.items():\n",
    "    data += \"var {} = {};\\n\".format(k,v)\n",
    "\n",
    "tmpl = '{{\"legendLabel\": \"{0}\", \"magnitude\": {1}}},'\n",
    "ll = prefs['labelLen']\n",
    "\n",
    "\n",
    "data += 'var dataSet1  = ['\n",
    "for x in range(0, len(colsum)):\n",
    "    if colsum[x] in range(prefs['start'], prefs['stop']+1):\n",
    "        l1 = labels_att[x][0][:ll]\n",
    "        l2 = labels_att[x][1][:ll]\n",
    "        value = str(colsum[x])\n",
    "        data += tmpl.format(\"{} - {}\".format(l1, l2), value)\n",
    "data += \"];\"\n",
    "print(data)"
   ]
  },
  {
   "cell_type": "markdown",
   "metadata": {},
   "source": [
    "### Lets call a D3-Graph with our data"
   ]
  },
  {
   "cell_type": "code",
   "execution_count": 9,
   "metadata": {},
   "outputs": [
    {
     "data": {
      "text/html": [
       "\n",
       "    \n",
       "                <div id='maindiv3333443186'></div>\n",
       "                \n",
       "                <script>\n",
       "                    var start = 0;\n",
       "var stop = 20;\n",
       "var user_list = ['a', 'b', 'c', 'd', 'e', 'f', 'g', 'h'];\n",
       "var labelLen = 3;\n",
       "var actwidth = 550;\n",
       "var actheight = 200;\n",
       "var dataSet1  = [{\"legendLabel\": \"q1 - q2\", \"magnitude\": 0},{\"legendLabel\": \"q1 - q3\", \"magnitude\": 4},{\"legendLabel\": \"q2 - q3\", \"magnitude\": 3},]; \n",
       "\n",
       "var margin = {top: 30, right: 20, bottom: 30, left: 50},\n",
       "    width = actwidth,\n",
       "    height = actheight;\n",
       "\n",
       "d3.select(\"#maindiv3333443186\").selectAll(\"svg\").remove();\n",
       "\t       \n",
       "var canvas = d3.select(\"#maindiv3333443186\")\n",
       "    .append(\"svg\")\n",
       "    .attr(\"width\", actwidth)\n",
       "    .attr(\"height\", actheight)\n",
       "    .attr('id', 'hd')\n",
       "\n",
       "//canvas.append('div')\n",
       "//   .innerhtml(\"Hallo\")\n",
       "\n",
       "\n",
       "/*\n",
       "var dataSet1 = [{\"legendLabel\": \"Pb - Cd\", \"magnitude\": 18},\n",
       "                {\"legendLabel\": \"Pb - Zn\", \"magnitude\": 21},\n",
       "\t\t{\"legendLabel\": \"Pb - S\", \"magnitude\": 20},\n",
       "\t\t{\"legendLabel\": \"Cd - Zn\", \"magnitude\": 4},\n",
       "\t\t{\"legendLabel\": \"Cd - S\", \"magnitude\": 18},\n",
       "\t\t{\"legendLabel\": \"Zn - S\", \"magnitude\": 14},\n",
       "\t\t];\n",
       "\n",
       "*/\n",
       "\n",
       "function drawHorizontalBarChart(chartID, dataSet, selectString, colors) {\n",
       "    \n",
       "    // chartID => A unique drawing identifier that has no spaces, \n",
       "    // no \".\" and no \"#\" characters.\n",
       "    // dataSet => Input Data for the chart, itself.\n",
       "    // selectString => String that allows you to pass in\n",
       "    //           a D3 select string.\n",
       "    // colors => String to set color scale.  Values can be...\n",
       "    //           => \"colorScale10\"\n",
       "    //           => \"colorScale20\"\n",
       "    //           => \"colorScale20b\"\n",
       "    //           => \"colorScale20c\"\n",
       "    \n",
       "    var canvasWidth = actwidth;\n",
       "    var barsWidthTotal = actheight;\n",
       "    var barHeight = 20;\n",
       "    var barsHeightTotal = barHeight * dataSet.length;\n",
       "    var canvasHeight = barHeight;\n",
       "    // +10 puts a little space at bottom.\n",
       "    //var canvasHeight = dataSet.length * barHeight + 10; \n",
       "    var legendOffset = barHeight/2;\n",
       "    var legendBulletOffset = 30;\n",
       "    var legendTextOffset = 20;\n",
       "    \n",
       "    var x = d3.scale.linear().domain([-1, d3.max(dataSet, function(d) { \n",
       "\treturn d.magnitude; })]).rangeRound([-1, barsWidthTotal]);\n",
       "    var y = d3.scale.linear().domain([0, dataSet.length]).range([0, barsHeightTotal]);\n",
       "    \n",
       "    // Color Scale Handling...\n",
       "    var colorScale = d3.scale.category20c();\n",
       "    switch (colors)\n",
       "    {\n",
       "\tcase \"colorScale10\":\n",
       "\tcolorScale = d3.scale.category10();\n",
       "\tbreak;\n",
       "\tcase \"colorScale20\":\n",
       "\tcolorScale = d3.scale.category20();\n",
       "\tbreak;\n",
       "\tcase \"colorScale20b\":\n",
       "\tcolorScale = d3.scale.category20b();\n",
       "\tbreak;\n",
       "\tcase \"colorScale20c\":\n",
       "\tcolorScale = d3.scale.category20c();\n",
       "\tbreak;\n",
       "\tdefault:\n",
       "\tcolorScale = d3.scale.category20c();\n",
       "    };\n",
       "    \n",
       "    var synchronizedMouseOver = function() {\n",
       "\tvar bar = d3.select(this);\n",
       "\tvar indexValue = bar.attr(\"index_value\");\n",
       "\t\n",
       "\tvar barSelector = \".\" + \"bars-\" + chartID + \"-bar-\" + indexValue;\n",
       "\tvar selectedBar = d3.selectAll(barSelector);\n",
       "\tselectedBar.style(\"fill\", \"Maroon\");\n",
       "\t\n",
       "\tvar bulletSelector = \".\" + \"bars-\" + chartID + \"-legendBullet-\" + indexValue;\n",
       "\tvar selectedLegendBullet = d3.selectAll(bulletSelector);\n",
       "\tselectedLegendBullet.style(\"fill\", \"Maroon\");\n",
       "\t\n",
       "\tvar textSelector = \".\" + \"bars-\" + chartID + \"-legendText-\" + indexValue;\n",
       "\tvar selectedLegendText = d3.selectAll(textSelector);\n",
       "\tselectedLegendText.style(\"fill\", \"Maroon\");\n",
       "    };\n",
       "    \n",
       "    var synchronizedMouseOut = function() {\n",
       "\tvar bar = d3.select(this);\n",
       "\tvar indexValue = bar.attr(\"index_value\");\n",
       "\t\n",
       "\tvar barSelector = \".\" + \"bars-\" + chartID + \"-bar-\" + indexValue;\n",
       "\tvar selectedBar = d3.selectAll(barSelector);\n",
       "\tvar colorValue = selectedBar.attr(\"color_value\");\n",
       "\tselectedBar.style(\"fill\", colorValue);\n",
       "\t\n",
       "\tvar bulletSelector = \".\" + \"bars-\" + chartID + \"-legendBullet-\" + indexValue;\n",
       "\tvar selectedLegendBullet = d3.selectAll(bulletSelector);\n",
       "\tvar colorValue = selectedLegendBullet.attr(\"color_value\");\n",
       "\tselectedLegendBullet.style(\"fill\", colorValue);\n",
       "\t\n",
       "\tvar textSelector = \".\" + \"bars-\" + chartID + \"-legendText-\" + indexValue;\n",
       "\tvar selectedLegendText = d3.selectAll(textSelector);\n",
       "\tselectedLegendText.style(\"fill\", \"Blue\");\n",
       "    };\n",
       "    \n",
       "    // Create the svg drawing canvas...\n",
       "    //var canvas = d3.select(selectString)\n",
       "    //\t.append(\"svg:svg\")\n",
       "    //.style(\"background-color\", \"#EEE\")\n",
       "    //\t.attr(\"width\", canvasWidth)\n",
       "    //\t.attr(\"height\", canvasHeight);\n",
       "    \n",
       "    // Draw individual hyper text enabled bars...\n",
       "    canvas.selectAll(\"rect\")\n",
       "\t.data(dataSet)\n",
       "\t.enter().append(\"svg:a\")\n",
       "\t.attr(\"xlink:href\", function(d) { return d.link; })\n",
       "\t.append(\"svg:rect\")\n",
       "    // NOTE: the 15 represents an offset to allow for space to place magnitude\n",
       "    // at end of bars.  May have to address this better, possibly by placing the\n",
       "    // magnitude within the bars.\n",
       "    //.attr(\"x\", function(d) { return barsWidthTotal - x(d.magnitude) + 15; }) // Left to right\n",
       "\t.attr(\"x\", 0) // Right to left\n",
       "\t.attr(\"y\", function(d, i) { return y(i); })\n",
       "\t.attr(\"height\", barHeight)\n",
       "\t.on('mouseover', synchronizedMouseOver)\n",
       "\t.on(\"mouseout\", synchronizedMouseOut)\n",
       "\t.style(\"fill\", \"White\" )\n",
       "\t.style(\"stroke\", \"White\" )\n",
       "\t.transition()\n",
       "\t.ease(\"bounce\")\n",
       "        .duration(1500)\n",
       "        .delay(function(d, i) { return i * 100; })\n",
       "\t.attr(\"width\", function(d) { return x(d.magnitude); })\n",
       "\t.style(\"fill\", function(d, i) { colorVal = colorScale(i); return colorVal; } )\n",
       "\t.attr(\"index_value\", function(d, i) { return \"index-\" + i; })\n",
       "\t.attr(\"class\", function(d, i) { return \"bars-\" + chartID + \"-bar-index-\" + i; })\n",
       "\t.attr(\"color_value\", function(d, i) { return colorScale(i); }) // Bar fill color...\n",
       "        .style(\"stroke\", \"white\"); // Bar border color...\n",
       "    \n",
       "    // Create text values that go at end of each bar...\n",
       "    canvas.selectAll(\"text\")\n",
       "        .data(dataSet) // Bind dataSet to text elements\n",
       "        .enter().append(\"svg:text\") // Append text elements\n",
       "        .attr(\"x\", x)\n",
       "        .attr(\"y\", function(d, i) { return y(i); })\n",
       "    //.attr(\"y\", function(d) { return y(d) + y.rangeBand() / 2; })\n",
       "        .attr(\"dx\", function(d) { return x(d.magnitude) - 5; })\n",
       "        .attr(\"dy\", barHeight-5) // vertical-align: middle\n",
       "        .attr(\"text-anchor\", \"end\") // text-align: right\n",
       "        .text(function(d) { return d.magnitude;})\n",
       "        .attr(\"fill\", \"white\");\n",
       "    \n",
       "    // Plot the bullet circles...\n",
       "    canvas.selectAll(\"circle\")\n",
       "        .data(dataSet).enter().append(\"svg:circle\") // Append circle elements\n",
       "        .attr(\"cx\", barsWidthTotal + legendBulletOffset)\n",
       "        .attr(\"cy\", function(d, i) { return legendOffset + i*barHeight; } )\n",
       "        .attr(\"stroke-width\", \".5\")\n",
       "        .style(\"fill\", function(d, i) { return colorScale(i); }) // Bar fill color\n",
       "        .attr(\"index_value\", function(d, i) { return \"index-\" + i; })\n",
       "        .attr(\"class\", function(d, i) { return \"bars-\" + chartID + \"-legendBullet-index-\" + i; })\n",
       "        .attr(\"r\", 5)\n",
       "        .attr(\"color_value\", function(d, i) { return colorScale(i); }) // Bar fill color...\n",
       "        .on('mouseover', synchronizedMouseOver)\n",
       "        .on(\"mouseout\", synchronizedMouseOut);\n",
       "    \n",
       "    // Create hyper linked text at right that acts as label key...\n",
       "    canvas.selectAll(\"a.legend_link\")\n",
       "        .data(dataSet) // Instruct to bind dataSet to text elements\n",
       "        .enter().append(\"svg:a\") // Append legend elements\n",
       "        .attr(\"xlink:href\", function(d) { return d.link; })\n",
       "        .append(\"text\")\n",
       "        .attr(\"text-anchor\", \"center\")\n",
       "        .attr(\"x\", barsWidthTotal + legendBulletOffset + legendTextOffset)\n",
       "    //.attr(\"y\", function(d, i) { return legendOffset + i*20 - 10; })\n",
       "        .attr(\"y\", function(d, i) { return legendOffset + i*barHeight; } )\n",
       "        .attr(\"dx\", 0)\n",
       "        .attr(\"dy\", \"5px\") // Controls padding to place text above bars\n",
       "        .text(function(d) { return d.legendLabel;})\n",
       "        .style(\"fill\", \"Blue\")\n",
       "        .attr(\"index_value\", function(d, i) { return \"index-\" + i; })\n",
       "        .attr(\"class\", function(d, i) { return \"bars-\" + chartID + \"-legendText-index-\" + i; })\n",
       "        .on('mouseover', synchronizedMouseOver)\n",
       "        .on(\"mouseout\", synchronizedMouseOut);\n",
       "    \n",
       "};\n",
       "\n",
       "drawHorizontalBarChart(\"Bars1\", dataSet1, \"#bar_chart_1 .chart\", \"colorScale10\");\n",
       "\n",
       "                </script>\n",
       "\n",
       "                "
      ],
      "text/plain": [
       "<IPython.core.display.HTML object>"
      ]
     },
     "execution_count": 9,
     "metadata": {},
     "output_type": "execute_result"
    }
   ],
   "source": [
    "HTML(hd3d_lib.draw_graph('acm_colsum',{'data': data}))"
   ]
  }
 ],
 "metadata": {
  "kernelspec": {
   "display_name": "Python 3",
   "language": "python",
   "name": "python3"
  },
  "language_info": {
   "codemirror_mode": {
    "name": "ipython",
    "version": 3
   },
   "file_extension": ".py",
   "mimetype": "text/x-python",
   "name": "python",
   "nbconvert_exporter": "python",
   "pygments_lexer": "ipython3",
   "version": "3.9.0"
  }
 },
 "nbformat": 4,
 "nbformat_minor": 1
}
