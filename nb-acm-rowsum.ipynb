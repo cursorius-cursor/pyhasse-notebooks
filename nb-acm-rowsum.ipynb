{
 "cells": [
  {
   "cell_type": "markdown",
   "metadata": {},
   "source": [
    "# What can pyhasse.acm be used for?"
   ]
  },
  {
   "cell_type": "markdown",
   "metadata": {},
   "source": [
    "### Objectives\n",
    "\n",
    "Analysis of conflicts (Antichain: a subset of the set of objects, mutually incomparable)\n",
    "\n",
    "### Let's calculate the rowsum\n",
    "\n",
    "Number of conflicting indicator pairs, concerning a given object pair. (row sum)"
   ]
  },
  {
   "cell_type": "markdown",
   "metadata": {},
   "source": [
    "### Import all necessary libraries"
   ]
  },
  {
   "cell_type": "code",
   "execution_count": 1,
   "metadata": {},
   "outputs": [],
   "source": [
    "import pathlib\n",
    "from pyhasse.core.csv_io import CSVReader\n",
    "from pyhasse.core.matrix import Matrix\n",
    "from pyhasse.core.hddata import HDData\n",
    "import json\n",
    "import random\n",
    "from IPython.core.display import display, HTML\n",
    "from string import Template\n",
    "import hd3d_lib\n",
    "from pyhasse.acm.calc import ACM\n"
   ]
  },
  {
   "cell_type": "markdown",
   "metadata": {},
   "source": [
    "### load library for visualisation"
   ]
  },
  {
   "cell_type": "code",
   "execution_count": 2,
   "metadata": {},
   "outputs": [
    {
     "data": {
      "text/html": [
       "<script src=\"lib/d3/d3.min.js\"></script>"
      ],
      "text/plain": [
       "<IPython.core.display.HTML object>"
      ]
     },
     "execution_count": 2,
     "metadata": {},
     "output_type": "execute_result"
    }
   ],
   "source": [
    "HTML('<script src=\"lib/d3/d3.min.js\"></script>')"
   ]
  },
  {
   "cell_type": "markdown",
   "metadata": {},
   "source": [
    "### Note:\n",
    "\n",
    "start: all bars whose length >= 'start' will be visible\n",
    "\n",
    "stop:  all bars whose length <= 'stop' will be shown\n"
   ]
  },
  {
   "cell_type": "markdown",
   "metadata": {},
   "source": [
    "### Preparing the data"
   ]
  },
  {
   "cell_type": "code",
   "execution_count": 5,
   "metadata": {},
   "outputs": [],
   "source": [
    "prefs={\n",
    "    'start': 0,  # all bars with values between 'start'...\n",
    "    'stop': 2,   # and 'stop' will be shown. To avoid trivial results it is recommended\n",
    "                 # to select start '1' . Note: if stop '2' then bars whose length > 2 will\n",
    "                 # not be visible. \n",
    "    'user_list' : [],\n",
    "    'labelLen': 3,\n",
    "    'actwidth': 550,\n",
    "    'actheight': 200\n",
    "}\n",
    "TESTFILENAME = '/csvdata/a-equiv.txt'\n",
    "HERE = pathlib.Path('__file__').parent\n",
    "csv = CSVReader(fn=str(HERE) + TESTFILENAME, ndec=3)\n",
    "# prepare dataset (reduced system)\n",
    "matrix = Matrix(csv.data, csv.obj, csv.prop, reduced=True)\n",
    "acm = ACM(matrix, csv)\n",
    "prefs['user_list'] = csv.obj"
   ]
  },
  {
   "cell_type": "code",
   "execution_count": 6,
   "metadata": {},
   "outputs": [],
   "source": [
    "##second exmple set\n",
    "#TESTFILENAME = '/csvdata/chain_pollution.csv'\n",
    "#prefs={\n",
    "#    'start': 4,\n",
    "#    'stop': 21,\n",
    "#    'user_list' : [],\n",
    "#    'labelLen': 3,\n",
    "#    'actwidth': 550,\n",
    "#    'actheight': 200\n",
    "#}"
   ]
  },
  {
   "cell_type": "markdown",
   "metadata": {},
   "source": [
    " ### Basic calculations\n"
   ]
  },
  {
   "cell_type": "code",
   "execution_count": 9,
   "metadata": {},
   "outputs": [],
   "source": [
    "px, pq = acm.generate_setofpairs(prefs['user_list'])\n",
    "acm.calc_acm(px, pq)\n",
    "rowsumacm, colsumacm = acm.calc_obj_attprofile()\n",
    "maxrowsum, maxcolsum = acm.calc_optimum()\n",
    "mobjobj, mattatt = acm.find_optimalpairs(px, pq)\n",
    "ac = acm.calc_acm(px, pq)"
   ]
  },
  {
   "cell_type": "code",
   "execution_count": 11,
   "metadata": {},
   "outputs": [],
   "source": [
    "name_ordinate1, \\\n",
    "name_ordinate2, \\\n",
    "labels_obj, \\\n",
    "labels_att, \\\n",
    "labelmaxobj, \\\n",
    "labelmaxatt = acm.acm_graphics(prefs['user_list'])\n",
    "\n",
    "#labels_obj\n",
    "#labels_att"
   ]
  },
  {
   "cell_type": "markdown",
   "metadata": {},
   "source": [
    "### Prepare the data for visualisation"
   ]
  },
  {
   "cell_type": "code",
   "execution_count": 14,
   "metadata": {},
   "outputs": [],
   "source": [
    "data = '[\\n'\n",
    "for k,v in prefs.items():\n",
    "    data += \"var {} = {};\\n\".format(k,v)\n",
    "data += ']\\n'\n",
    "# print(data)\n",
    "\n",
    "tmpl = '{{\"legendLabel\": \"{0}\", \"magnitude\": {1}}},'\n",
    "ll = prefs['labelLen']\n",
    "rowsum, colsum = acm.calc_obj_attprofile()\n",
    "data = '['\n",
    "for x in range(0, len(rowsum)):\n",
    "    if rowsum[x] in range(prefs['start'], prefs['stop']+1):\n",
    "        l1 = labels_obj[x][0][:ll]\n",
    "        l2 = labels_obj[x][1][:ll]\n",
    "        value = str(rowsum[x])\n",
    "        data += tmpl.format(\"{} - {}\".format(l1, l2), value)\n",
    "data += \"];\"\n",
    "#data"
   ]
  },
  {
   "cell_type": "code",
   "execution_count": 15,
   "metadata": {
    "scrolled": false
   },
   "outputs": [
    {
     "data": {
      "text/html": [
       "\n",
       "    \n",
       "                <div id='maindiv6540725387'></div>\n",
       "                \n",
       "                <script>\n",
       "                    var actwidth = 650\n",
       "var actheight = 500\n",
       "\n",
       "var margin = {top: 30, right: 20, bottom: 30, left: 50},\n",
       "    width = actwidth,\n",
       "    height = actheight;\n",
       "\n",
       "d3.select(\"#maindiv6540725387\").selectAll(\"svg\").remove();\n",
       "var canvas = d3.select(\"#maindiv6540725387\")\n",
       "    .append(\"svg\")\n",
       "    .attr(\"width\", width + margin.left + margin.right)\n",
       "    .attr(\"height\", height + margin.top + margin.bottom)\n",
       "    .attr('id', 'hd')\n",
       "\n",
       "var dataSet1 = [{\"legendLabel\": \"a - b\", \"magnitude\": 0},{\"legendLabel\": \"a - c\", \"magnitude\": 2},{\"legendLabel\": \"a - d\", \"magnitude\": 0},{\"legendLabel\": \"a - e\", \"magnitude\": 0},{\"legendLabel\": \"a - f\", \"magnitude\": 0},{\"legendLabel\": \"a - g\", \"magnitude\": 0},{\"legendLabel\": \"a - h\", \"magnitude\": 0},{\"legendLabel\": \"b - c\", \"magnitude\": 2},{\"legendLabel\": \"b - d\", \"magnitude\": 0},{\"legendLabel\": \"b - e\", \"magnitude\": 0},{\"legendLabel\": \"b - f\", \"magnitude\": 0},{\"legendLabel\": \"b - g\", \"magnitude\": 0},{\"legendLabel\": \"b - h\", \"magnitude\": 0},{\"legendLabel\": \"c - d\", \"magnitude\": 1},{\"legendLabel\": \"c - e\", \"magnitude\": 0},{\"legendLabel\": \"c - f\", \"magnitude\": 2},{\"legendLabel\": \"c - g\", \"magnitude\": 0},{\"legendLabel\": \"c - h\", \"magnitude\": 0},{\"legendLabel\": \"d - e\", \"magnitude\": 0},{\"legendLabel\": \"d - f\", \"magnitude\": 0},{\"legendLabel\": \"d - g\", \"magnitude\": 0},{\"legendLabel\": \"d - h\", \"magnitude\": 0},{\"legendLabel\": \"e - f\", \"magnitude\": 0},{\"legendLabel\": \"e - g\", \"magnitude\": 0},{\"legendLabel\": \"e - h\", \"magnitude\": 0},{\"legendLabel\": \"f - g\", \"magnitude\": 0},{\"legendLabel\": \"f - h\", \"magnitude\": 0},{\"legendLabel\": \"g - h\", \"magnitude\": 0},];\n",
       "\n",
       "/* Sampledata\n",
       "\n",
       "var dataSet1 = [{\"legendLabel\": \"a - c\", \"magnitude\": 2},\n",
       "\t        {\"legendLabel\": \"a - d\", \"magnitude\": 0},\n",
       "\t\t{\"legendLabel\": \"a - e\", \"magnitude\": 0},\n",
       "\t\t{\"legendLabel\": \"a - h\", \"magnitude\": 0},\n",
       "\t\t{\"legendLabel\": \"c - d\", \"magnitude\": 1},\n",
       "\t\t{\"legendLabel\": \"c - e\", \"magnitude\": 0},\n",
       "\t\t{\"legendLabel\": \"c - h\", \"magnitude\": 0},\n",
       "\t\t{\"legendLabel\": \"d - e\", \"magnitude\": 0},\n",
       "\t\t{\"legendLabel\": \"d - h\", \"magnitude\": 0},\n",
       "\t\t{\"legendLabel\": \"e - h\", \"magnitude\": 0},\n",
       "\t       ];\n",
       "\n",
       "*/\n",
       "\n",
       "function drawHorizontalBarChart(chartID, dataSet, selectString, colors) {\n",
       "    \n",
       "    // chartID => A unique drawing identifier that has no spaces, \n",
       "    // no \".\" and no \"#\" characters.\n",
       "    // dataSet => Input Data for the chart, itself.\n",
       "    // selectString => String that allows you to pass in\n",
       "    //           a D3 select string.\n",
       "    // colors => String to set color scale.  Values can be...\n",
       "    //           => \"colorScale10\"\n",
       "    //           => \"colorScale20\"\n",
       "    //           => \"colorScale20b\"\n",
       "    //           => \"colorScale20c\"\n",
       "    \n",
       "    var canvasWidth = 700;\n",
       "    var barsWidthTotal = 500;\n",
       "    var barHeight = 20;\n",
       "    var barsHeightTotal = barHeight * dataSet.length;\n",
       "    //var canvasHeight = 200;\n",
       "    // +10 puts a little space at bottom.\n",
       "    var canvasHeight = dataSet.length * barHeight + 10; \n",
       "    var legendOffset = barHeight/2;\n",
       "    var legendBulletOffset = 30;\n",
       "    var legendTextOffset = 20;\n",
       "    \n",
       "    var x = d3.scale.linear().domain([-1, d3.max(dataSet, function(d) { \n",
       "\treturn d.magnitude; })]).rangeRound([-1, barsWidthTotal]);\n",
       "    var y = d3.scale.linear().domain([0, dataSet.length]).range([0, barsHeightTotal]);\n",
       "    \n",
       "    // Color Scale Handling...\n",
       "    var colorScale = d3.scale.category20c();\n",
       "    switch (colors)\n",
       "    {\n",
       "\tcase \"colorScale10\":\n",
       "\tcolorScale = d3.scale.category10();\n",
       "\tbreak;\n",
       "\tcase \"colorScale20\":\n",
       "\tcolorScale = d3.scale.category20();\n",
       "\tbreak;\n",
       "\tcase \"colorScale20b\":\n",
       "\tcolorScale = d3.scale.category20b();\n",
       "\tbreak;\n",
       "\tcase \"colorScale20c\":\n",
       "\tcolorScale = d3.scale.category20c();\n",
       "\tbreak;\n",
       "\tdefault:\n",
       "\tcolorScale = d3.scale.category20c();\n",
       "    };\n",
       "    \n",
       "    var synchronizedMouseOver = function() {\n",
       "\tvar bar = d3.select(this);\n",
       "\tvar indexValue = bar.attr(\"index_value\");\n",
       "\t\n",
       "\tvar barSelector = \".\" + \"bars-\" + chartID + \"-bar-\" + indexValue;\n",
       "\tvar selectedBar = d3.selectAll(barSelector);\n",
       "\tselectedBar.style(\"fill\", \"Maroon\");\n",
       "\t\n",
       "\tvar bulletSelector = \".\" + \"bars-\" + chartID + \"-legendBullet-\" + indexValue;\n",
       "\tvar selectedLegendBullet = d3.selectAll(bulletSelector);\n",
       "\tselectedLegendBullet.style(\"fill\", \"Maroon\");\n",
       "\t\n",
       "\tvar textSelector = \".\" + \"bars-\" + chartID + \"-legendText-\" + indexValue;\n",
       "\tvar selectedLegendText = d3.selectAll(textSelector);\n",
       "\tselectedLegendText.style(\"fill\", \"Maroon\");\n",
       "    };\n",
       "    \n",
       "    var synchronizedMouseOut = function() {\n",
       "\tvar bar = d3.select(this);\n",
       "\tvar indexValue = bar.attr(\"index_value\");\n",
       "\t\n",
       "\tvar barSelector = \".\" + \"bars-\" + chartID + \"-bar-\" + indexValue;\n",
       "\tvar selectedBar = d3.selectAll(barSelector);\n",
       "\tvar colorValue = selectedBar.attr(\"color_value\");\n",
       "\tselectedBar.style(\"fill\", colorValue);\n",
       "\t\n",
       "\tvar bulletSelector = \".\" + \"bars-\" + chartID + \"-legendBullet-\" + indexValue;\n",
       "\tvar selectedLegendBullet = d3.selectAll(bulletSelector);\n",
       "\tvar colorValue = selectedLegendBullet.attr(\"color_value\");\n",
       "\tselectedLegendBullet.style(\"fill\", colorValue);\n",
       "\t\n",
       "\tvar textSelector = \".\" + \"bars-\" + chartID + \"-legendText-\" + indexValue;\n",
       "\tvar selectedLegendText = d3.selectAll(textSelector);\n",
       "\tselectedLegendText.style(\"fill\", \"Blue\");\n",
       "    };\n",
       "    \n",
       "    // Create the svg drawing canvas...\n",
       "    //var canvas = d3.select(selectString)\n",
       "    //\t.append(\"svg:svg\")\n",
       "    //.style(\"background-color\", \"#EEE\")\n",
       "    //\t.attr(\"width\", canvasWidth)\n",
       "    //\t.attr(\"height\", canvasHeight);\n",
       "    \n",
       "    // Draw individual hyper text enabled bars...\n",
       "    canvas.selectAll(\"rect\")\n",
       "\t.data(dataSet)\n",
       "\t.enter().append(\"svg:a\")\n",
       "\t.attr(\"xlink:href\", function(d) { return d.link; })\n",
       "\t.append(\"svg:rect\")\n",
       "    // NOTE: the 15 represents an offset to allow for space to place magnitude\n",
       "    // at end of bars.  May have to address this better, possibly by placing the\n",
       "    // magnitude within the bars.\n",
       "    //.attr(\"x\", function(d) { return barsWidthTotal - x(d.magnitude) + 15; }) // Left to right\n",
       "\t.attr(\"x\", 0) // Right to left\n",
       "\t.attr(\"y\", function(d, i) { return y(i); })\n",
       "\t.attr(\"height\", barHeight)\n",
       "\t.on('mouseover', synchronizedMouseOver)\n",
       "\t.on(\"mouseout\", synchronizedMouseOut)\n",
       "\t.style(\"fill\", \"White\" )\n",
       "\t.style(\"stroke\", \"White\" )\n",
       "\t.transition()\n",
       "\t.ease(\"bounce\")\n",
       "        .duration(1500)\n",
       "        .delay(function(d, i) { return i * 100; })\n",
       "\t.attr(\"width\", function(d) { return x(d.magnitude); })\n",
       "\t.style(\"fill\", function(d, i) { colorVal = colorScale(i); return colorVal; } )\n",
       "\t.attr(\"index_value\", function(d, i) { return \"index-\" + i; })\n",
       "\t.attr(\"class\", function(d, i) { return \"bars-\" + chartID + \"-bar-index-\" + i; })\n",
       "\t.attr(\"color_value\", function(d, i) { return colorScale(i); }) // Bar fill color...\n",
       "        .style(\"stroke\", \"white\"); // Bar border color...\n",
       "    \n",
       "    // Create text values that go at end of each bar...\n",
       "    canvas.selectAll(\"text\")\n",
       "        .data(dataSet) // Bind dataSet to text elements\n",
       "        .enter().append(\"svg:text\") // Append text elements\n",
       "        .attr(\"x\", x)\n",
       "        .attr(\"y\", function(d, i) { return y(i); })\n",
       "    //.attr(\"y\", function(d) { return y(d) + y.rangeBand() / 2; })\n",
       "        .attr(\"dx\", function(d) { return x(d.magnitude) - 5; })\n",
       "        .attr(\"dy\", barHeight-5) // vertical-align: middle\n",
       "        .attr(\"text-anchor\", \"end\") // text-align: right\n",
       "        .text(function(d) { return d.magnitude;})\n",
       "        .attr(\"fill\", \"white\");\n",
       "    \n",
       "    // Plot the bullet circles...\n",
       "    canvas.selectAll(\"circle\")\n",
       "        .data(dataSet).enter().append(\"svg:circle\") // Append circle elements\n",
       "        .attr(\"cx\", barsWidthTotal + legendBulletOffset)\n",
       "        .attr(\"cy\", function(d, i) { return legendOffset + i*barHeight; } )\n",
       "        .attr(\"stroke-width\", \".5\")\n",
       "        .style(\"fill\", function(d, i) { return colorScale(i); }) // Bar fill color\n",
       "        .attr(\"index_value\", function(d, i) { return \"index-\" + i; })\n",
       "        .attr(\"class\", function(d, i) { return \"bars-\" + chartID + \"-legendBullet-index-\" + i; })\n",
       "        .attr(\"r\", 5)\n",
       "        .attr(\"color_value\", function(d, i) { return colorScale(i); }) // Bar fill color...\n",
       "        .on('mouseover', synchronizedMouseOver)\n",
       "        .on(\"mouseout\", synchronizedMouseOut);\n",
       "    \n",
       "    // Create hyper linked text at right that acts as label key...\n",
       "    canvas.selectAll(\"a.legend_link\")\n",
       "        .data(dataSet) // Instruct to bind dataSet to text elements\n",
       "        .enter().append(\"svg:a\") // Append legend elements\n",
       "        .attr(\"xlink:href\", function(d) { return d.link; })\n",
       "        .append(\"text\")\n",
       "        .attr(\"text-anchor\", \"center\")\n",
       "        .attr(\"x\", barsWidthTotal + legendBulletOffset + legendTextOffset)\n",
       "    //.attr(\"y\", function(d, i) { return legendOffset + i*20 - 10; })\n",
       "        .attr(\"y\", function(d, i) { return legendOffset + i*barHeight; } )\n",
       "        .attr(\"dx\", 0)\n",
       "        .attr(\"dy\", \"5px\") // Controls padding to place text above bars\n",
       "        .text(function(d) { return d.legendLabel;})\n",
       "        .style(\"fill\", \"Blue\")\n",
       "        .attr(\"index_value\", function(d, i) { return \"index-\" + i; })\n",
       "        .attr(\"class\", function(d, i) { return \"bars-\" + chartID + \"-legendText-index-\" + i; })\n",
       "        .on('mouseover', synchronizedMouseOver)\n",
       "        .on(\"mouseout\", synchronizedMouseOut);\n",
       "    \n",
       "};\n",
       "\n",
       "drawHorizontalBarChart(\"Bars1\", dataSet1, \"#bar_chart_1 .chart\", \"colorScale10\");\n",
       "\n",
       "                </script>\n",
       "\n",
       "                "
      ],
      "text/plain": [
       "<IPython.core.display.HTML object>"
      ]
     },
     "execution_count": 15,
     "metadata": {},
     "output_type": "execute_result"
    }
   ],
   "source": [
    "HTML(hd3d_lib.draw_graph('acm_rowsum',{'data': data}))"
   ]
  },
  {
   "cell_type": "code",
   "execution_count": null,
   "metadata": {},
   "outputs": [],
   "source": []
  }
 ],
 "metadata": {
  "kernelspec": {
   "display_name": "Python 3",
   "language": "python",
   "name": "python3"
  },
  "language_info": {
   "codemirror_mode": {
    "name": "ipython",
    "version": 3
   },
   "file_extension": ".py",
   "mimetype": "text/x-python",
   "name": "python",
   "nbconvert_exporter": "python",
   "pygments_lexer": "ipython3",
   "version": "3.9.0"
  }
 },
 "nbformat": 4,
 "nbformat_minor": 1
}
