{
 "cells": [
  {
   "cell_type": "markdown",
   "metadata": {},
   "source": [
    "# Demo of pyhasse.fuzzy"
   ]
  },
  {
   "cell_type": "markdown",
   "metadata": {},
   "source": [
    "### Aim of the program\n",
    "\n",
    "Application of fuzzy concepts within the framework of partial orders is one interesting option to take into regard that not any slight numerical difference is considered as relevant for a ranking."
   ]
  },
  {
   "cell_type": "markdown",
   "metadata": {},
   "source": [
    "### If not already done\n",
    "\n",
    "Comment out or delete the following line if the module is installed."
   ]
  },
  {
   "cell_type": "code",
   "execution_count": 1,
   "metadata": {},
   "outputs": [],
   "source": [
    "#!pip install pyhasse.fuzzy"
   ]
  },
  {
   "cell_type": "markdown",
   "metadata": {},
   "source": [
    "### import all necessary libraries"
   ]
  },
  {
   "cell_type": "code",
   "execution_count": 2,
   "metadata": {},
   "outputs": [],
   "source": [
    "import pathlib\n",
    "from pyhasse.core.csv_io import CSVReader\n",
    "from pyhasse.core.matrix import Matrix\n",
    "from pyhasse.core.order import Order\n",
    "from pyhasse.fuzzy.calc import Fuzzy\n",
    "import json\n",
    "from IPython.core.display import display, HTML\n",
    "from string import Template"
   ]
  },
  {
   "cell_type": "code",
   "execution_count": 3,
   "metadata": {},
   "outputs": [],
   "source": [
    "TESTFILENAME = '/csvdata/a_test12.txt'\n",
    "HERE = pathlib.Path('__file__').parent\n",
    "csv = CSVReader(fn=str(HERE) + TESTFILENAME, ndec=3)\n",
    "# prepare dataset (reduced system)\n",
    "matrix = Matrix(csv.data, csv.obj, csv.prop, reduced=True)\n",
    "precision = 4\n",
    "order = Order(csv.data,\n",
    "              csv.rows,\n",
    "              csv.cols)\n",
    "zeta =order.calc_relatmatrix(csv.data, csv.rows, csv.cols)\n",
    "zeta = order.calc_relatmatrix(\n",
    "    datamatrix=matrix.data,\n",
    "    rows=matrix.rows,\n",
    "    cols=matrix.cols,\n",
    "    prec=precision)\n",
    "\n",
    "down = order.calc_downset(zeta, csv.rows)\n",
    "up = order.calc_upset(zeta, matrix.rows)"
   ]
  },
  {
   "cell_type": "markdown",
   "metadata": {},
   "source": [
    "### Some basic data"
   ]
  },
  {
   "cell_type": "code",
   "execution_count": 4,
   "metadata": {},
   "outputs": [],
   "source": [
    "# print(csv.rows)\n",
    "# print(csv.cols)\n",
    "# print(csv.prop)\n",
    "# print(csv.obj)\n",
    "# print(csv.objred)\n",
    "# print(csv.data)"
   ]
  },
  {
   "cell_type": "markdown",
   "metadata": {},
   "source": [
    "### your/user input"
   ]
  },
  {
   "cell_type": "code",
   "execution_count": 5,
   "metadata": {},
   "outputs": [],
   "source": [
    "ndec = 3 \n",
    "acut = 0.6"
   ]
  },
  {
   "cell_type": "code",
   "execution_count": 6,
   "metadata": {},
   "outputs": [],
   "source": [
    "rows = csv.rows\n",
    "cols = csv.cols\n",
    "dm = csv.data\n",
    "obj = csv.obj\n",
    "prop = csv.prop\n",
    "fuzzy = Fuzzy(rows, cols, dm, obj, prop, ndec)\n",
    "sh = fuzzy.calc_koskomatrix(dm, rows, cols)\n",
    "relat = fuzzy.fuzzyproduct(sh)\n",
    "lr = len(relat)\n",
    "for i1 in range(0, lr):\n",
    "    for i2 in range(0, lr):\n",
    "        relat[i1][i2] = round(relat[i1][i2], ndec)\n",
    "# Note, the values of relat matrix should be sorted increasingly\n",
    "# and delivered to the user\n",
    "\n",
    "crisp_relat = fuzzy.calc_crisp_matrix(relat, acut)\n",
    "objred_fuzzy_act = fuzzy.generate_representative_elements(crisp_relat)"
   ]
  },
  {
   "cell_type": "code",
   "execution_count": 7,
   "metadata": {},
   "outputs": [
    {
     "data": {
      "text/plain": [
       "['0', '4', '12', '16']"
      ]
     },
     "execution_count": 7,
     "metadata": {},
     "output_type": "execute_result"
    }
   ],
   "source": [
    "objred_fuzzy_act"
   ]
  },
  {
   "cell_type": "code",
   "execution_count": 8,
   "metadata": {},
   "outputs": [],
   "source": [
    "# todo: show more calcualtiosn..."
   ]
  },
  {
   "cell_type": "code",
   "execution_count": null,
   "metadata": {},
   "outputs": [],
   "source": []
  }
 ],
 "metadata": {
  "kernelspec": {
   "display_name": "Python 3",
   "language": "python",
   "name": "python3"
  },
  "language_info": {
   "codemirror_mode": {
    "name": "ipython",
    "version": 3
   },
   "file_extension": ".py",
   "mimetype": "text/x-python",
   "name": "python",
   "nbconvert_exporter": "python",
   "pygments_lexer": "ipython3",
   "version": "3.9.0"
  }
 },
 "nbformat": 4,
 "nbformat_minor": 2
}
