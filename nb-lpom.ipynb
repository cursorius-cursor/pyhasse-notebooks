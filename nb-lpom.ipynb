{
 "cells": [
  {
   "cell_type": "markdown",
   "metadata": {},
   "source": [
    "### Demo of pyhasse.lpom"
   ]
  },
  {
   "cell_type": "markdown",
   "metadata": {},
   "source": [
    "Aim of the program\n",
    "\n",
    "LPOM stands for Local Partial Order Model.\n",
    "\n",
    "LPOM0 and LPOMext are approximations to calculate the average height, hav, of partially ordered sets (posets)."
   ]
  },
  {
   "cell_type": "markdown",
   "metadata": {},
   "source": [
    "### If not already done\n",
    "\n",
    "Comment out or delete the following line if the module is installed."
   ]
  },
  {
   "cell_type": "code",
   "execution_count": 11,
   "metadata": {},
   "outputs": [],
   "source": [
    "#!pip install pyhasse.lpom"
   ]
  },
  {
   "cell_type": "markdown",
   "metadata": {},
   "source": [
    "### import all nessesary libraries"
   ]
  },
  {
   "cell_type": "code",
   "execution_count": 4,
   "metadata": {},
   "outputs": [],
   "source": [
    "import pathlib\n",
    "from pyhasse.core.csv_io import CSVReader\n",
    "from pyhasse.core.matrix import Matrix\n",
    "from pyhasse.core.order import Order\n",
    "from pyhasse.lpom.calc import LPOM\n",
    "import json\n",
    "import random\n",
    "from IPython.core.display import display, HTML\n",
    "from string import Template\n"
   ]
  },
  {
   "cell_type": "code",
   "execution_count": 6,
   "metadata": {},
   "outputs": [],
   "source": [
    "TESTFILENAME = '/csvdata/a-equiv.txt'\n",
    "prefs={\n",
    "    'start': 0,\n",
    "    'stop': 3,\n",
    "    'user_list' : [],\n",
    "    'labelLen': 3,\n",
    "    'actwidth': 550,\n",
    "    'actheight': 200\n",
    "}\n",
    "\n",
    "HERE = pathlib.Path('__file__').parent\n",
    "csv = CSVReader(fn=str(HERE) + TESTFILENAME, ndec=3)\n",
    "# prepare dataset (reduced system)\n",
    "matrix = Matrix(csv.data, csv.obj, csv.prop, reduced=True)\n",
    "precision = 4\n",
    "order = Order(csv.data,\n",
    "              csv.rows,\n",
    "              csv.cols)\n",
    "zeta =order.calc_relatmatrix(csv.data, csv.rows, csv.cols)\n",
    "zeta = order.calc_relatmatrix(\n",
    "    datamatrix=matrix.data,\n",
    "    rows=matrix.rows,\n",
    "    cols=matrix.cols,\n",
    "    prec=precision)"
   ]
  },
  {
   "cell_type": "markdown",
   "metadata": {},
   "source": [
    "### Some basic data"
   ]
  },
  {
   "cell_type": "code",
   "execution_count": 10,
   "metadata": {},
   "outputs": [
    {
     "name": "stdout",
     "output_type": "stream",
     "text": [
      "8\n",
      "3\n",
      "['q1', 'q2', 'q3']\n",
      "['a', 'b', 'c', 'd', 'e', 'f', 'g', 'h']\n",
      "['a', 'b', 'c', 'd', 'e', 'f', 'g', 'h']\n",
      "[[1.0, 1.0, 2.0], [1.0, 1.0, 2.0], [3.0, 2.0, 1.0], [1.0, 2.0, 3.0], [4.0, 4.0, 4.0], [1.0, 1.0, 2.0], [4.0, 4.0, 4.0], [9.0, 9.0, 9.0]]\n"
     ]
    }
   ],
   "source": [
    "print(csv.rows)\n",
    "print(csv.cols)\n",
    "print(csv.prop)\n",
    "print(csv.obj)\n",
    "print(csv.obj)\n",
    "print(csv.data)"
   ]
  },
  {
   "cell_type": "code",
   "execution_count": 14,
   "metadata": {},
   "outputs": [
    {
     "name": "stdout",
     "output_type": "stream",
     "text": [
      "[[0, 2, 3, 4], [1, 3, 4], [2, 3, 4], [3, 4], [4]]\n",
      "[[0], [1], [0, 2], [0, 1, 2, 3], [0, 1, 2, 3, 4]]\n"
     ]
    }
   ],
   "source": [
    "# incomp = order.calc_incompset(zeta, redrows)\n",
    "incomp = order.calc_incompset(zeta, matrix.rows)\n",
    "order.calc_incomp(zeta, matrix.rows)\n",
    "down = order.calc_downset(zeta, matrix.rows)\n",
    "up =order.calc_upset(zeta, matrix.rows)\n",
    "print(up)\n",
    "print(down)"
   ]
  },
  {
   "cell_type": "code",
   "execution_count": 15,
   "metadata": {},
   "outputs": [],
   "source": [
    "lpom2 = LPOM()"
   ]
  },
  {
   "cell_type": "code",
   "execution_count": 17,
   "metadata": {},
   "outputs": [],
   "source": [
    "hav0 = lpom2.calc_hav(down, incomp, matrix.rows)"
   ]
  },
  {
   "cell_type": "code",
   "execution_count": 19,
   "metadata": {},
   "outputs": [
    {
     "name": "stdout",
     "output_type": "stream",
     "text": [
      "[1.33, 2.0, 2.67, 4, 5]\n"
     ]
    }
   ],
   "source": [
    "hav1 = lpom2.calc_hav_ext(down, up, incomp, matrix.rows)\n",
    "print(hav1)"
   ]
  },
  {
   "cell_type": "markdown",
   "metadata": {},
   "source": [
    "### Outpup \"Averaged height\" as table"
   ]
  },
  {
   "cell_type": "code",
   "execution_count": 21,
   "metadata": {},
   "outputs": [
    {
     "data": {
      "text/html": [
       "<table><tr><td>a</td><td>1.33</td></tr><tr><td>c</td><td>2.0</td></tr><tr><td>d</td><td>2.67</td></tr><tr><td>e</td><td>4</td></tr><tr><td>h</td><td>5</td></tr></table>"
      ],
      "text/plain": [
       "<IPython.core.display.HTML object>"
      ]
     },
     "metadata": {},
     "output_type": "display_data"
    }
   ],
   "source": [
    "from IPython.display import HTML, display\n",
    "from pyhasse.core.tables import HTMLTable\n",
    "\n",
    "data = []\n",
    "for idx, item in enumerate(matrix.obj):\n",
    "    data.append([item, hav1[idx]])\n",
    "tab = HTMLTable(data)\n",
    "display(HTML(tab.table2html()))"
   ]
  },
  {
   "cell_type": "markdown",
   "metadata": {},
   "source": [
    "### Objects averaged height0"
   ]
  },
  {
   "cell_type": "code",
   "execution_count": 25,
   "metadata": {},
   "outputs": [
    {
     "data": {
      "text/html": [
       "<table><tr><td>a</td><td>1.33</td></tr><tr><td>b</td><td>0</td></tr><tr><td>c</td><td>2.0</td></tr><tr><td>d</td><td>2.67</td></tr><tr><td>e</td><td>4</td></tr><tr><td>f</td><td>0</td></tr><tr><td>g</td><td>0</td></tr><tr><td>h</td><td>5</td></tr></table>"
      ],
      "text/plain": [
       "<IPython.core.display.HTML object>"
      ]
     },
     "metadata": {},
     "output_type": "display_data"
    }
   ],
   "source": [
    "eqact = csv.eqm\n",
    "fext0 = matrix.weak(csv.obj, matrix.obj, eqact, hav1)\n",
    "data = []\n",
    "for idx, item in enumerate(csv.obj):\n",
    "    data.append([item, fext0[idx]])\n",
    "tab = HTMLTable(data)\n",
    "display(HTML(tab.table2html()))"
   ]
  },
  {
   "cell_type": "markdown",
   "metadata": {},
   "source": [
    "### Output as graph"
   ]
  },
  {
   "cell_type": "markdown",
   "metadata": {},
   "source": [
    "Comming soon...."
   ]
  },
  {
   "cell_type": "code",
   "execution_count": null,
   "metadata": {},
   "outputs": [],
   "source": []
  }
 ],
 "metadata": {
  "kernelspec": {
   "display_name": "Python 3",
   "language": "python",
   "name": "python3"
  },
  "language_info": {
   "codemirror_mode": {
    "name": "ipython",
    "version": 3
   },
   "file_extension": ".py",
   "mimetype": "text/x-python",
   "name": "python",
   "nbconvert_exporter": "python",
   "pygments_lexer": "ipython3",
   "version": "3.9.0"
  }
 },
 "nbformat": 4,
 "nbformat_minor": 2
}
